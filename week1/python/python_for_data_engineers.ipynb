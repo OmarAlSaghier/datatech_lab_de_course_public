{
 "cells": [
  {
   "cell_type": "markdown",
   "metadata": {},
   "source": [
    "# DataTech Labs\n",
    "### Hands-on: Python for Data Engineers"
   ]
  },
  {
   "cell_type": "markdown",
   "metadata": {},
   "source": [
    "-------------------------------------------------------------------------------\n",
    "#### Exercise 1: Python Basics\n",
    "Task 1: Basic Arithmetic Operations\n",
    "\n",
    "Description: Introduce basic arithmetic operations in Python. Students will learn how to perform addition, subtraction, multiplication, division, and modulo operations.\n",
    "\n"
   ]
  },
  {
   "cell_type": "code",
   "execution_count": 1,
   "metadata": {},
   "outputs": [
    {
     "name": "stdout",
     "output_type": "stream",
     "text": [
      "Sum: 13\n",
      "Difference: 7\n",
      "Product: 30\n",
      "Division: 3.3333333333333335\n",
      "Modulo: 1\n"
     ]
    }
   ],
   "source": [
    "# Basic Arithmetic Operations\n",
    "a = 10\n",
    "b = 3\n",
    "\n",
    "# Addition\n",
    "sum_ab = a + b\n",
    "print(\"Sum:\", sum_ab)\n",
    "\n",
    "# Subtraction\n",
    "diff_ab = a - b\n",
    "print(\"Difference:\", diff_ab)\n",
    "\n",
    "# Multiplication\n",
    "prod_ab = a * b\n",
    "print(\"Product:\", prod_ab)\n",
    "\n",
    "# Division\n",
    "div_ab = a / b\n",
    "print(\"Division:\", div_ab)\n",
    "\n",
    "# Modulo\n",
    "mod_ab = a % b\n",
    "print(\"Modulo:\", mod_ab)\n"
   ]
  },
  {
   "cell_type": "markdown",
   "metadata": {},
   "source": [
    "Task 2: Working with Strings\n",
    "\n",
    "Description: Students will learn how to handle strings in Python, including concatenation, slicing, and basic string methods."
   ]
  },
  {
   "cell_type": "code",
   "execution_count": 3,
   "metadata": {},
   "outputs": [
    {
     "name": "stdout",
     "output_type": "stream",
     "text": [
      "Full Name: Data Engineer\n",
      "First Part: Data\n",
      "Uppercase Name: DATA ENGINEER\n",
      "Lowercase Name: data engineer\n"
     ]
    }
   ],
   "source": [
    "# String Operations\n",
    "first_name = \"Data\"\n",
    "last_name = \"Engineer\"\n",
    "\n",
    "# Concatenation\n",
    "full_name = first_name + \" \" + last_name\n",
    "print(\"Full Name:\", full_name)\n",
    "\n",
    "# String Slicing\n",
    "first_part = full_name[:4]\n",
    "print(\"First Part:\", first_part)\n",
    "\n",
    "# String Methods\n",
    "upper_name = full_name.upper()\n",
    "print(\"Uppercase Name:\", upper_name)\n",
    "\n",
    "lower_name = full_name.lower()\n",
    "print(\"Lowercase Name:\", lower_name)\n"
   ]
  },
  {
   "cell_type": "markdown",
   "metadata": {},
   "source": [
    "-------------------------------------------------------------------------------\n",
    "#### Exercise 2: Python Functions\n",
    "\n",
    "Task 3: Defining and Calling Functions\n",
    "\n",
    "Description: This task will introduce students to functions in Python. They will learn how to define a function, pass arguments, and return values.\n",
    "\n"
   ]
  },
  {
   "cell_type": "code",
   "execution_count": 4,
   "metadata": {},
   "outputs": [
    {
     "name": "stdout",
     "output_type": "stream",
     "text": [
      "Hello, Alice! Welcome to Python for Data Engineers.\n"
     ]
    }
   ],
   "source": [
    "# Function Definition\n",
    "def greet(name):\n",
    "    return f\"Hello, {name}! Welcome to Python for Data Engineers.\"\n",
    "\n",
    "# Function Call\n",
    "message = greet(\"Alice\")\n",
    "print(message)\n"
   ]
  },
  {
   "cell_type": "markdown",
   "metadata": {},
   "source": [
    "Task 4: Functions with Multiple Arguments\n",
    "\n",
    "Description: Expand on functions by introducing multiple arguments and default parameters."
   ]
  },
  {
   "cell_type": "code",
   "execution_count": 5,
   "metadata": {},
   "outputs": [
    {
     "name": "stdout",
     "output_type": "stream",
     "text": [
      "Area: 15\n",
      "Power: 16\n"
     ]
    }
   ],
   "source": [
    "# Function with Multiple Arguments\n",
    "def calculate_area(length, width):\n",
    "    return length * width\n",
    "\n",
    "area = calculate_area(5, 3)\n",
    "print(\"Area:\", area)\n",
    "\n",
    "# Function with Default Parameters\n",
    "def power(base, exponent=2):\n",
    "    return base ** exponent\n",
    "\n",
    "result = power(4)  # Default exponent is 2\n",
    "print(\"Power:\", result)\n"
   ]
  },
  {
   "cell_type": "markdown",
   "metadata": {},
   "source": [
    "-------------------------------------------------------------------------------\n",
    "#### Exercise 3: Python Object-Oriented Programming (OOP)\n",
    "\n",
    "Task 5: Creating a Simple Class\n",
    "\n",
    "Description: Introduce object-oriented programming by creating a simple class. Students will learn about class attributes, methods, and instantiation."
   ]
  },
  {
   "cell_type": "code",
   "execution_count": 6,
   "metadata": {},
   "outputs": [
    {
     "name": "stdout",
     "output_type": "stream",
     "text": [
      "Area: 15\n",
      "Perimeter: 16\n"
     ]
    }
   ],
   "source": [
    "# Class Definition\n",
    "class Rectangle:\n",
    "    def __init__(self, length, width):\n",
    "        self.length = length\n",
    "        self.width = width\n",
    "    \n",
    "    def area(self):\n",
    "        return self.length * self.width\n",
    "    \n",
    "    def perimeter(self):\n",
    "        return 2 * (self.length + self.width)\n",
    "\n",
    "# Object Instantiation\n",
    "rect = Rectangle(5, 3)\n",
    "\n",
    "# Calling Methods\n",
    "print(\"Area:\", rect.area())\n",
    "print(\"Perimeter:\", rect.perimeter())\n"
   ]
  },
  {
   "cell_type": "markdown",
   "metadata": {},
   "source": [
    "Task 6: Inheritance in Python\n",
    "\n",
    "Description: Introduce students to inheritance, allowing them to create a derived class that inherits attributes and methods from a base class."
   ]
  },
  {
   "cell_type": "code",
   "execution_count": 8,
   "metadata": {},
   "outputs": [
    {
     "name": "stdout",
     "output_type": "stream",
     "text": [
      "Square Area: 16\n",
      "Square Perimeter: 16\n"
     ]
    }
   ],
   "source": [
    "# Inheritance\n",
    "class Square(Rectangle):\n",
    "    def __init__(self, side_length):\n",
    "        super().__init__(side_length, side_length)\n",
    "\n",
    "# Object Instantiation\n",
    "square = Square(4)\n",
    "\n",
    "# Calling Inherited Methods\n",
    "print(\"Square Area:\", square.area())\n",
    "print(\"Square Perimeter:\", square.perimeter())\n"
   ]
  },
  {
   "cell_type": "markdown",
   "metadata": {},
   "source": [
    "-------------------------------------------------------------------------------\n",
    "#### Exercise 4: Error Handling in Python\n",
    "\n",
    "Task 7: Basic Error Handling\n",
    "\n",
    "Description: Teach students how to handle errors using try-except blocks"
   ]
  },
  {
   "cell_type": "code",
   "execution_count": 11,
   "metadata": {},
   "outputs": [
    {
     "name": "stdout",
     "output_type": "stream",
     "text": [
      "Result: 1.6666666666666667\n"
     ]
    }
   ],
   "source": [
    "# Error Handling\n",
    "try:\n",
    "    num = int(input(\"Enter a number: \"))\n",
    "    result = 10 / num\n",
    "    print(\"Result:\", result)\n",
    "\n",
    "except ZeroDivisionError:\n",
    "    print(\"Error: Cannot divide by zero.\")\n",
    "\n",
    "except ValueError:\n",
    "    print(\"Error: Invalid input. Please enter a number.\")\n"
   ]
  },
  {
   "cell_type": "markdown",
   "metadata": {},
   "source": [
    "Task 8: Raising Exceptions\n",
    "\n",
    "Description: Show students how to raise exceptions in Python to manage errors in their programs"
   ]
  },
  {
   "cell_type": "code",
   "execution_count": 10,
   "metadata": {},
   "outputs": [
    {
     "name": "stdout",
     "output_type": "stream",
     "text": [
      "Age cannot be negative.\n"
     ]
    }
   ],
   "source": [
    "# Raising Exceptions\n",
    "def check_age(age):\n",
    "    if age < 0:\n",
    "        raise ValueError(\"Age cannot be negative.\")\n",
    "    return f\"Your age is {age}\"\n",
    "\n",
    "try:\n",
    "    print(check_age(-5))\n",
    "except ValueError as e:\n",
    "    print(e)\n"
   ]
  },
  {
   "cell_type": "markdown",
   "metadata": {},
   "source": [
    "-------------------------------------------------------------------------------\n",
    "#### Exercise 5: Additional Python Concepts\n",
    "\n",
    "Task 9: Working with Lists and Dictionaries\n",
    "\n",
    "Description: Introduce data structures like lists and dictionaries, covering basic operations such as indexing, appending, and accessing elements."
   ]
  },
  {
   "cell_type": "code",
   "execution_count": 12,
   "metadata": {},
   "outputs": [
    {
     "name": "stdout",
     "output_type": "stream",
     "text": [
      "Fruits: ['apple', 'banana', 'cherry', 'orange']\n",
      "First Fruit: apple\n"
     ]
    }
   ],
   "source": [
    "# Lists\n",
    "fruits = [\"apple\", \"banana\", \"cherry\"]\n",
    "fruits.append(\"orange\")\n",
    "print(\"Fruits:\", fruits)\n",
    "print(\"First Fruit:\", fruits[0])"
   ]
  },
  {
   "cell_type": "code",
   "execution_count": 13,
   "metadata": {},
   "outputs": [
    {
     "name": "stdout",
     "output_type": "stream",
     "text": [
      "Student Name: Alice\n",
      "Student Age: 23\n"
     ]
    }
   ],
   "source": [
    "# Dictionaries\n",
    "student = {\"name\": \"Alice\", \"age\": 23, \"course\": \"Data Engineering\"}\n",
    "print(\"Student Name:\", student[\"name\"])\n",
    "print(\"Student Age:\", student[\"age\"])\n"
   ]
  },
  {
   "cell_type": "markdown",
   "metadata": {},
   "source": [
    "Task 10: File Handling\n",
    "\n",
    "Description: Teach students how to read from and write to files in Python."
   ]
  },
  {
   "cell_type": "code",
   "execution_count": 14,
   "metadata": {},
   "outputs": [
    {
     "name": "stdout",
     "output_type": "stream",
     "text": [
      "File Content: Hello, Data Engineers!\n"
     ]
    }
   ],
   "source": [
    "# Writing to a File\n",
    "with open(\"data.txt\", \"w\") as file:\n",
    "    file.write(\"Hello, Data Engineers!\")\n",
    "\n",
    "# Reading from a File\n",
    "with open(\"data.txt\", \"r\") as file:\n",
    "    content = file.read()\n",
    "    print(\"File Content:\", content)\n"
   ]
  },
  {
   "cell_type": "markdown",
   "metadata": {},
   "source": [
    "-------------------------------------------------------------------------------\n",
    "#### Exercise 6: Data Processing with Pandas\n",
    "\n",
    "Task 11: Basic Data Processing with Pandas\n",
    "\n",
    "Description: Introduce the Pandas library for basic data manipulation."
   ]
  },
  {
   "cell_type": "code",
   "execution_count": 19,
   "metadata": {},
   "outputs": [
    {
     "name": "stdout",
     "output_type": "stream",
     "text": [
      "DataFrame:\n",
      "      Name  Age            Course Gender\n",
      "0    Alice   23  Data Engineering      F\n",
      "1      Bob   30      Data Science      M\n",
      "2  Charlie   25    Data Analytics      M\n"
     ]
    },
    {
     "data": {
      "text/html": [
       "<div>\n",
       "<style scoped>\n",
       "    .dataframe tbody tr th:only-of-type {\n",
       "        vertical-align: middle;\n",
       "    }\n",
       "\n",
       "    .dataframe tbody tr th {\n",
       "        vertical-align: top;\n",
       "    }\n",
       "\n",
       "    .dataframe thead th {\n",
       "        text-align: right;\n",
       "    }\n",
       "</style>\n",
       "<table border=\"1\" class=\"dataframe\">\n",
       "  <thead>\n",
       "    <tr style=\"text-align: right;\">\n",
       "      <th></th>\n",
       "      <th>Name</th>\n",
       "      <th>Age</th>\n",
       "      <th>Course</th>\n",
       "      <th>Gender</th>\n",
       "    </tr>\n",
       "  </thead>\n",
       "  <tbody>\n",
       "    <tr>\n",
       "      <th>0</th>\n",
       "      <td>Alice</td>\n",
       "      <td>23</td>\n",
       "      <td>Data Engineering</td>\n",
       "      <td>F</td>\n",
       "    </tr>\n",
       "    <tr>\n",
       "      <th>1</th>\n",
       "      <td>Bob</td>\n",
       "      <td>30</td>\n",
       "      <td>Data Science</td>\n",
       "      <td>M</td>\n",
       "    </tr>\n",
       "    <tr>\n",
       "      <th>2</th>\n",
       "      <td>Charlie</td>\n",
       "      <td>25</td>\n",
       "      <td>Data Analytics</td>\n",
       "      <td>M</td>\n",
       "    </tr>\n",
       "  </tbody>\n",
       "</table>\n",
       "</div>"
      ],
      "text/plain": [
       "      Name  Age            Course Gender\n",
       "0    Alice   23  Data Engineering      F\n",
       "1      Bob   30      Data Science      M\n",
       "2  Charlie   25    Data Analytics      M"
      ]
     },
     "execution_count": 19,
     "metadata": {},
     "output_type": "execute_result"
    }
   ],
   "source": [
    "import pandas as pd\n",
    "\n",
    "# Creating a DataFrame\n",
    "data = {\n",
    "    \"Name\": [\"Alice\", \"Bob\", \"Charlie\"],\n",
    "    \"Age\": [23, 30, 25],\n",
    "    \"Course\": [\"Data Engineering\", \"Data Science\", \"Data Analytics\"],\n",
    "    \"Gender\": [\"F\", \"M\", \"M\"]\n",
    "}\n",
    "df = pd.DataFrame(data)\n",
    "\n",
    "# Accessing Data\n",
    "print(\"DataFrame:\")\n",
    "print(df) # Display the entire DataFrame\n",
    "df.head() # Display the first 5 rows\n"
   ]
  },
  {
   "cell_type": "code",
   "execution_count": 20,
   "metadata": {},
   "outputs": [
    {
     "name": "stdout",
     "output_type": "stream",
     "text": [
      "Average Age: 26.0\n",
      "Youngest Student: Alice\n",
      "Number of Students: 3\n",
      "Column Names: Index(['Name', 'Age', 'Course', 'Gender'], dtype='object')\n",
      "Number of Columns: 4\n"
     ]
    }
   ],
   "source": [
    "# Basic Operations\n",
    "print(\"Average Age:\", df[\"Age\"].mean())\n",
    "print(\"Youngest Student:\", df[\"Name\"][df[\"Age\"].idxmin()])\n",
    "print(\"Number of Students:\", len(df))\n",
    "print(\"Column Names:\", df.columns)\n",
    "print(\"Number of Columns:\", len(df.columns))"
   ]
  }
 ],
 "metadata": {
  "kernelspec": {
   "display_name": "de_env",
   "language": "python",
   "name": "python3"
  },
  "language_info": {
   "codemirror_mode": {
    "name": "ipython",
    "version": 3
   },
   "file_extension": ".py",
   "mimetype": "text/x-python",
   "name": "python",
   "nbconvert_exporter": "python",
   "pygments_lexer": "ipython3",
   "version": "3.10.3"
  }
 },
 "nbformat": 4,
 "nbformat_minor": 2
}
