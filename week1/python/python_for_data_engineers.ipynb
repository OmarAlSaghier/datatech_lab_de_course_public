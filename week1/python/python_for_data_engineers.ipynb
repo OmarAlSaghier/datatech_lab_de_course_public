{
 "cells": [
  {
   "cell_type": "markdown",
   "metadata": {},
   "source": [
    "# DataTech Labs\n",
    "### Hands-on: Python for Data Engineers"
   ]
  },
  {
   "cell_type": "markdown",
   "metadata": {},
   "source": [
    "-------------------------------------------------------------------------------\n",
    "#### Exercise 1: Python Basics\n",
    "Task 1: Basic Arithmetic Operations\n",
    "\n",
    "Description: Introduce basic arithmetic operations in Python. Students will learn how to perform addition, subtraction, multiplication, division, and modulo operations.\n",
    "\n"
   ]
  },
  {
   "cell_type": "code",
   "execution_count": null,
   "metadata": {},
   "outputs": [],
   "source": [
    "# Basic Arithmetic Operations\n",
    "a = 10\n",
    "b = 3\n",
    "\n",
    "# Addition\n"
   ]
  },
  {
   "cell_type": "markdown",
   "metadata": {},
   "source": [
    "Task 2: Working with Strings\n",
    "\n",
    "Description: Students will learn how to handle strings in Python, including concatenation, slicing, and basic string methods."
   ]
  },
  {
   "cell_type": "code",
   "execution_count": null,
   "metadata": {},
   "outputs": [],
   "source": [
    "# String Operations\n",
    "first_name = \"Data\"\n",
    "last_name = \"Engineer\"\n",
    "\n",
    "# Concatenation\n",
    "\n"
   ]
  },
  {
   "cell_type": "markdown",
   "metadata": {},
   "source": [
    "-------------------------------------------------------------------------------\n",
    "#### Exercise 2: Python Functions\n",
    "\n",
    "Task 3: Defining and Calling Functions\n",
    "\n",
    "Description: This task will introduce students to functions in Python. They will learn how to define a function, pass arguments, and return values.\n",
    "\n"
   ]
  },
  {
   "cell_type": "code",
   "execution_count": null,
   "metadata": {},
   "outputs": [],
   "source": [
    "# Function Definition\n",
    "\n",
    "# Function Call\n"
   ]
  },
  {
   "cell_type": "markdown",
   "metadata": {},
   "source": [
    "Task 4: Functions with Multiple Arguments\n",
    "\n",
    "Description: Expand on functions by introducing multiple arguments and default parameters."
   ]
  },
  {
   "cell_type": "code",
   "execution_count": null,
   "metadata": {},
   "outputs": [],
   "source": [
    "# Function with Multiple Arguments\n",
    "\n",
    "# Function with Default Parameters\n"
   ]
  },
  {
   "cell_type": "markdown",
   "metadata": {},
   "source": [
    "-------------------------------------------------------------------------------\n",
    "#### Exercise 3: Python Object-Oriented Programming (OOP)\n",
    "\n",
    "Task 5: Creating a Simple Class\n",
    "\n",
    "Description: Introduce object-oriented programming by creating a simple class. Students will learn about class attributes, methods, and instantiation."
   ]
  },
  {
   "cell_type": "code",
   "execution_count": null,
   "metadata": {},
   "outputs": [],
   "source": [
    "# Class Definition\n",
    "\n",
    "# Object Instantiation\n",
    "\n",
    "# Calling Methods\n"
   ]
  },
  {
   "cell_type": "markdown",
   "metadata": {},
   "source": [
    "Task 6: Inheritance in Python\n",
    "\n",
    "Description: Introduce students to inheritance, allowing them to create a derived class that inherits attributes and methods from a base class."
   ]
  },
  {
   "cell_type": "code",
   "execution_count": null,
   "metadata": {},
   "outputs": [],
   "source": [
    "# Inheritance\n",
    "\n",
    "# Object Instantiation\n",
    "\n",
    "# Calling Inherited Methods\n"
   ]
  },
  {
   "cell_type": "markdown",
   "metadata": {},
   "source": [
    "-------------------------------------------------------------------------------\n",
    "#### Exercise 4: Error Handling in Python\n",
    "\n",
    "Task 7: Basic Error Handling\n",
    "\n",
    "Description: Teach students how to handle errors using try-except blocks"
   ]
  },
  {
   "cell_type": "code",
   "execution_count": null,
   "metadata": {},
   "outputs": [],
   "source": [
    "# Error Handling\n"
   ]
  },
  {
   "cell_type": "markdown",
   "metadata": {},
   "source": [
    "Task 8: Raising Exceptions\n",
    "\n",
    "Description: Show students how to raise exceptions in Python to manage errors in their programs"
   ]
  },
  {
   "cell_type": "code",
   "execution_count": null,
   "metadata": {},
   "outputs": [],
   "source": [
    "# Raising Exceptions\n"
   ]
  },
  {
   "cell_type": "markdown",
   "metadata": {},
   "source": [
    "-------------------------------------------------------------------------------\n",
    "#### Exercise 5: Additional Python Concepts\n",
    "\n",
    "Task 9: Working with Lists and Dictionaries\n",
    "\n",
    "Description: Introduce data structures like lists and dictionaries, covering basic operations such as indexing, appending, and accessing elements."
   ]
  },
  {
   "cell_type": "code",
   "execution_count": null,
   "metadata": {},
   "outputs": [],
   "source": [
    "# Lists"
   ]
  },
  {
   "cell_type": "code",
   "execution_count": null,
   "metadata": {},
   "outputs": [],
   "source": [
    "# Dictionaries\n"
   ]
  },
  {
   "cell_type": "markdown",
   "metadata": {},
   "source": [
    "Task 10: File Handling\n",
    "\n",
    "Description: Teach students how to read from and write to files in Python."
   ]
  },
  {
   "cell_type": "code",
   "execution_count": null,
   "metadata": {},
   "outputs": [],
   "source": [
    "# Writing to a File\n",
    "\n",
    "# Reading from a File\n"
   ]
  },
  {
   "cell_type": "markdown",
   "metadata": {},
   "source": [
    "-------------------------------------------------------------------------------\n",
    "#### Exercise 6: Data Processing with Pandas\n",
    "\n",
    "Task 11: Basic Data Processing with Pandas\n",
    "\n",
    "Description: Introduce the Pandas library for basic data manipulation."
   ]
  },
  {
   "cell_type": "code",
   "execution_count": null,
   "metadata": {},
   "outputs": [],
   "source": [
    "# Importing Libraries\n",
    "\n",
    "\n",
    "# Creating a DataFrame\n",
    "\n",
    "# Accessing Data in a DataFrame\n"
   ]
  },
  {
   "cell_type": "code",
   "execution_count": null,
   "metadata": {},
   "outputs": [],
   "source": [
    "# Basic Operations on a DataFrame"
   ]
  }
 ],
 "metadata": {
  "kernelspec": {
   "display_name": "Python 3",
   "language": "python",
   "name": "python3"
  },
  "language_info": {
   "codemirror_mode": {
    "name": "ipython",
    "version": 3
   },
   "file_extension": ".py",
   "mimetype": "text/x-python",
   "name": "python",
   "nbconvert_exporter": "python",
   "pygments_lexer": "ipython3",
   "version": "3.10.3"
  }
 },
 "nbformat": 4,
 "nbformat_minor": 2
}
