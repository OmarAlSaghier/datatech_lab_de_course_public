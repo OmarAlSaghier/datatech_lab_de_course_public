{
 "cells": [
  {
   "cell_type": "markdown",
   "metadata": {},
   "source": [
    "## Exercise 3: Designing and Implementing a Data Warehouse\n",
    "In this exercise, we will design and implement a basic data warehouse using the data from our online retail store. We will understand key data warehousing concepts, design a star schema, implement it using SQL, and perform an ETL process using Python."
   ]
  },
  {
   "cell_type": "markdown",
   "metadata": {},
   "source": [
    "### Task 8: Designing a Star Schema\n",
    "Description: Design a star schema for the online retail store to facilitate efficient data analysis.\n",
    "\n",
    "**Instructions:**\n",
    "\n",
    "1. Define the purpose and attributes of each table as outlined above.\n",
    "2. Identify the grain of the fact table, which is the level of detail (e.g., one row per product sold per transaction).\n",
    "3. Ensure that dimension tables contain descriptive attributes that facilitate detailed analysis.\n",
    "\n",
    "Components of the Star Schema:\n",
    "\n",
    "1. Fact Table:\n",
    "    - Sales_Fact: Contains sales transaction data.\n",
    "\n",
    "2. Dimension Tables:\n",
    "    - Date_Dim: Contains date-related information.\n",
    "    - Customer_Dim: Contains customer information.\n",
    "    - Product_Dim: Contains product information.\n",
    "    - Category_Dim: Contains product category information.\n",
    "    - Store_Dim (Optional): Contains store or sales channel information.\n",
    "\n",
    "\n",
    "Design Details:\n",
    "\n",
    "1. Sales_Fact Table:\n",
    "    - sale_id (primary key)\n",
    "    - date_id (foreign key to Date_Dim)\n",
    "    - customer_id (foreign key to Customer_Dim)\n",
    "    - product_id (foreign key to Product_Dim)\n",
    "    - quantity_sold\n",
    "    - total_price\n",
    "\n",
    "2. Date_Dim Table:\n",
    "    - date_id (primary key)\n",
    "    - date (full date)\n",
    "    - day\n",
    "    - month\n",
    "    - quarter\n",
    "    - year\n",
    "    - weekday\n",
    "\n",
    "3. Customer_Dim Table:\n",
    "    - customer_id (primary key)\n",
    "    - first_name\n",
    "    - last_name\n",
    "    - email\n",
    "    - phone_number\n",
    "    - address\n",
    "    - city\n",
    "    - state\n",
    "    - zip_code\n",
    "    - registration_date\n",
    "\n",
    "4. Product_Dim Table:\n",
    "    - product_id (primary key)\n",
    "    - product_name\n",
    "    - description\n",
    "    - price\n",
    "    - category_id (foreign key to Category_Dim)\n",
    "\n",
    "5. Category_Dim Table:\n",
    "    - category_id (primary key)\n",
    "    - category_name\n",
    "    - category_description\n",
    "    \n",
    "ER Diagram of Star Schema:\n",
    "- Centered around Sales_Fact, connected to each dimension table via foreign keys."
   ]
  },
  {
   "cell_type": "markdown",
   "metadata": {},
   "source": [
    "### Task 9: Implementing the Star Schema using SQL\n",
    "Description: Create the star schema in your database by defining the fact and dimension tables with appropriate constraints.\n",
    "\n",
    "**Instructions:**\n",
    "\n",
    "1. Create a new schema to represne the data warehouse."
   ]
  },
  {
   "cell_type": "code",
   "execution_count": null,
   "metadata": {
    "vscode": {
     "languageId": "sql"
    }
   },
   "outputs": [],
   "source": [
    "%% SQL\n",
    "\n",
    "CREATE SCHEMA IF NOT EXISTS orders_dw;"
   ]
  },
  {
   "cell_type": "markdown",
   "metadata": {},
   "source": [
    "2. Create dimensional tables (Date_Dim, Customer_Dim, Product_Dim, Category_Dim) with the specified attributes."
   ]
  },
  {
   "cell_type": "code",
   "execution_count": null,
   "metadata": {
    "vscode": {
     "languageId": "sql"
    }
   },
   "outputs": [],
   "source": [
    "%% SQL\n",
    "\n",
    "-- Create Date_Dim Table\n",
    "CREATE TABLE date_Dim (\n",
    "    date_id INTEGER PRIMARY KEY,\n",
    "    date DATE NOT NULL,\n",
    "    day INTEGER,\n",
    "    month INTEGER,\n",
    "    quarter INTEGER,\n",
    "    year INTEGER,\n",
    "    weekday VARCHAR(10)\n",
    ");\n",
    "\n",
    "-- Create Customer_Dim Table\n",
    "CREATE TABLE customer_Dim (\n",
    "    customer_id INTEGER PRIMARY KEY,\n",
    "    first_name VARCHAR(50),\n",
    "    last_name VARCHAR(50),\n",
    "    email VARCHAR(100),\n",
    "    phone_number VARCHAR(20),\n",
    "    address VARCHAR(200),\n",
    "    city VARCHAR(50),\n",
    "    state VARCHAR(50),\n",
    "    zip_code VARCHAR(10),\n",
    "    registration_date DATE\n",
    ");\n",
    "\n",
    "-- Create Category_Dim Table\n",
    "CREATE TABLE category_Dim (\n",
    "    category_id INTEGER PRIMARY KEY,\n",
    "    category_name VARCHAR(100),\n",
    "    category_description TEXT\n",
    ");\n",
    "\n",
    "-- Create Product_Dim Table\n",
    "CREATE TABLE product_Dim (\n",
    "    product_id INTEGER PRIMARY KEY,\n",
    "    product_name VARCHAR(100),\n",
    "    description TEXT,\n",
    "    price DECIMAL(10,2),\n",
    "    category_id INTEGER,\n",
    "    FOREIGN KEY (category_id) REFERENCES Category_Dim(category_id)\n",
    ");"
   ]
  },
  {
   "cell_type": "markdown",
   "metadata": {},
   "source": [
    "3. Create the fact table (Sales_Fact) with the specified attributes and foreign key constraints."
   ]
  },
  {
   "cell_type": "code",
   "execution_count": null,
   "metadata": {
    "vscode": {
     "languageId": "sql"
    }
   },
   "outputs": [],
   "source": [
    "%% SQL\n",
    "\n",
    "-- Create Sales_Fact Table\n",
    "CREATE TABLE sales_fact (\n",
    "    sale_id SERIAL PRIMARY KEY,\n",
    "    date_id INTEGER,\n",
    "    customer_id INTEGER,\n",
    "    product_id INTEGER,\n",
    "    quantity_sold INTEGER,\n",
    "    total_price DECIMAL(10,2),\n",
    "    FOREIGN KEY (date_id) REFERENCES Date_Dim(date_id),\n",
    "    FOREIGN KEY (customer_id) REFERENCES Customer_Dim(customer_id),\n",
    "    FOREIGN KEY (product_id) REFERENCES Product_Dim(product_id)\n",
    ");"
   ]
  },
  {
   "cell_type": "markdown",
   "metadata": {},
   "source": [
    "4. Insert sample data into the dimension tables to populate them."
   ]
  },
  {
   "cell_type": "code",
   "execution_count": null,
   "metadata": {
    "vscode": {
     "languageId": "sql"
    }
   },
   "outputs": [],
   "source": [
    "%% SQL\n",
    "\n",
    "-- Insert sample data into Date_Dim Table\n",
    "INSERT INTO date_Dim (date_id, date, day, month, quarter, year, weekday)\n",
    "VALUES (1, '2022-01-01', 1, 1, 1, 2022, 'Saturday'),\n",
    "       (2, '2022-01-02', 2, 1, 1, 2022, 'Sunday'),\n",
    "       (3, '2022-01-03', 3, 1, 1, 2022, 'Monday');\n",
    "\n",
    "INSERT INTO category_Dim\n",
    "\tselect *\n",
    "\tfrom public.categories \n",
    ";\n",
    "\n",
    "INSERT INTO product_Dim\n",
    "\tselect *\n",
    "\tfrom public.products \n",
    ";\n",
    "\n",
    "INSERT INTO customer_Dim\n",
    "\tselect *\n",
    "\tfrom public.customers \n",
    ";\n",
    "\n",
    "INSERT INTO sales_fact\n",
    "    SELECT \n",
    "        o.order_id,\n",
    "        strftime('%Y%m%d', o.order_date) AS date_id,\n",
    "        o.customer_id,\n",
    "        oi.product_id,\n",
    "        oi.quantity,\n",
    "        oi.quantity * oi.unit_price AS total_price\n",
    "    FROM public.orders o\n",
    "    JOIN public.orderitems oi \n",
    "    \tON o.order_id = oi.order_id\n",
    ";"
   ]
  },
  {
   "cell_type": "markdown",
   "metadata": {},
   "source": [
    "### Task 10: Querying the Data Warehouse\n",
    "Description: Execute analytical queries on the data warehouse to derive insights.\n",
    "\n",
    "**Instructions:**\n",
    "\n",
    "1. Total Sales per Product:"
   ]
  },
  {
   "cell_type": "code",
   "execution_count": null,
   "metadata": {
    "vscode": {
     "languageId": "sql"
    }
   },
   "outputs": [],
   "source": [
    "%% SQL\n",
    "\n",
    "SELECT \n",
    "    Product_Dim.product_name,\n",
    "    SUM(Sales_Fact.quantity_sold) AS total_units_sold,\n",
    "    SUM(Sales_Fact.total_price) AS total_sales\n",
    "FROM Sales_Fact\n",
    "JOIN Product_Dim ON Sales_Fact.product_id = Product_Dim.product_id\n",
    "GROUP BY Product_Dim.product_name\n",
    "ORDER BY total_sales DESC\n",
    ";"
   ]
  },
  {
   "cell_type": "markdown",
   "metadata": {},
   "source": [
    "2. Monthly Sales Performance:"
   ]
  },
  {
   "cell_type": "code",
   "execution_count": null,
   "metadata": {
    "vscode": {
     "languageId": "sql"
    }
   },
   "outputs": [],
   "source": [
    "%% SQL\n",
    "\n",
    "SELECT \n",
    "    Date_Dim.month,\n",
    "    Date_Dim.year,\n",
    "    SUM(Sales_Fact.total_price) AS monthly_sales\n",
    "FROM Sales_Fact\n",
    "JOIN Date_Dim ON Sales_Fact.date_id = Date_Dim.date_id\n",
    "GROUP BY Date_Dim.year, Date_Dim.month\n",
    "ORDER BY Date_Dim.year, Date_Dim.month\n",
    ";"
   ]
  },
  {
   "cell_type": "markdown",
   "metadata": {},
   "source": [
    "3. Top Customers by Sales:"
   ]
  },
  {
   "cell_type": "code",
   "execution_count": null,
   "metadata": {
    "vscode": {
     "languageId": "sql"
    }
   },
   "outputs": [],
   "source": [
    "%% SQL\n",
    "\n",
    "SELECT \n",
    "    Customer_Dim.first_name || ' ' || Customer_Dim.last_name AS customer_name,\n",
    "    SUM(Sales_Fact.total_price) AS total_spent\n",
    "FROM Sales_Fact\n",
    "JOIN Customer_Dim ON Sales_Fact.customer_id = Customer_Dim.customer_id\n",
    "GROUP BY Sales_Fact.customer_id\n",
    "ORDER BY total_spent DESC\n",
    "LIMIT 5\n",
    ";"
   ]
  },
  {
   "cell_type": "markdown",
   "metadata": {},
   "source": [
    "4. Sales by Category:"
   ]
  },
  {
   "cell_type": "code",
   "execution_count": null,
   "metadata": {
    "vscode": {
     "languageId": "sql"
    }
   },
   "outputs": [],
   "source": [
    "%% SQL\n",
    "\n",
    "SELECT \n",
    "    Category_Dim.category_name,\n",
    "    SUM(Sales_Fact.total_price) AS total_sales\n",
    "FROM Sales_Fact\n",
    "JOIN Product_Dim ON Sales_Fact.product_id = Product_Dim.product_id\n",
    "JOIN Category_Dim ON Product_Dim.category_id = Category_Dim.category_id\n",
    "GROUP BY Category_Dim.category_name\n",
    "ORDER BY total_sales DESC\n",
    ";"
   ]
  },
  {
   "cell_type": "markdown",
   "metadata": {},
   "source": [
    "5. Daily Sales Trends:"
   ]
  },
  {
   "cell_type": "code",
   "execution_count": null,
   "metadata": {
    "vscode": {
     "languageId": "sql"
    }
   },
   "outputs": [],
   "source": [
    "%% SQL\n",
    "\n",
    "SELECT \n",
    "    Date_Dim.date,\n",
    "    SUM(Sales_Fact.total_price) AS daily_sales\n",
    "FROM Sales_Fact\n",
    "JOIN Date_Dim ON Sales_Fact.date_id = Date_Dim.date_id\n",
    "GROUP BY Date_Dim.date\n",
    "ORDER BY Date_Dim.date\n",
    ";"
   ]
  }
 ],
 "metadata": {
  "language_info": {
   "name": "python"
  }
 },
 "nbformat": 4,
 "nbformat_minor": 2
}
