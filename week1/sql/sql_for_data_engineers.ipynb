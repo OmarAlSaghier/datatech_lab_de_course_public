{
 "cells": [
  {
   "cell_type": "markdown",
   "metadata": {},
   "source": [
    "# SQL for Data Engineers: Hands-On Exercise\n",
    "\n",
    "Objective: By the end of this hands-on exercise, students will understand how to design a simple data model and implement a basic data warehouse schema using Python and SQL. This exercise is tailored for beginners with no prior coding experience and will cover fundamental concepts essential for data engineering tasks."
   ]
  },
  {
   "cell_type": "markdown",
   "metadata": {},
   "source": [
    "## Exercise 1: Designing a Data Model\n",
    "\n",
    "In this exercise, we will design a conceptual data model for a fictional `online retail store`. The data model will serve as the blueprint for our database structure, outlining how data is organized and related within the system."
   ]
  },
  {
   "cell_type": "markdown",
   "metadata": {},
   "source": [
    "### Task 1: Identifying Entities and Relationships\n",
    "Description: Identify the main entities involved in the online retail store and understand how they interact with each other.\n",
    "\n",
    "**Instructions:**\n",
    "\n",
    "- Customers: Represent individuals who purchase products from the store.\n",
    "- Orders: Represent transactions made by customers.\n",
    "- Products: Represent items available for purchase.\n",
    "- Categories: Represent groupings or classifications of products.\n",
    "\n",
    "Entities:\n",
    "- Customers\n",
    "- Orders\n",
    "- Products\n",
    "- Categories\n",
    "\n",
    "Relationships:\n",
    "\n",
    "- A Customer can place multiple Orders.\n",
    "- An Order can contain multiple Products.\n",
    "- A Product belongs to one Category.\n",
    "\n",
    "Example:\n",
    "\n",
    "Customer John Doe places an order containing 2 items: a Laptop and a Wireless Mouse. The Laptop belongs to the Electronics category, and the Wireless Mouse belongs to the Accessories category."
   ]
  },
  {
   "cell_type": "markdown",
   "metadata": {},
   "source": [
    "### Task 2: Defining Attributes for Each Entity\n",
    "Description: Define the specific pieces of information (attributes) that need to be stored for each entity.\n",
    "\n",
    "**Instructions:**\n",
    "\n",
    "Ensure that each entity has a primary key (*_id) that uniquely identifies each record.\n",
    "Define appropriate data types for each attribute when implementing in SQL (e.g., integer, varchar, date, decimal).\n",
    "Identify and establish foreign key relationships between entities where applicable.\n",
    "\n",
    "Attributes:\n",
    "\n",
    "- for \"Customers\":\n",
    "\t- customer_id (unique identifier)\n",
    "\t- first_name\n",
    "\t- last_name\n",
    "\t- email\n",
    "\t- phone_number\n",
    "\t- address\n",
    "\t- city\n",
    "\t- state\n",
    "\t- zip_code\n",
    "\t- registration_date\n",
    "\n",
    "- for \"Orders\":\n",
    "\t- order_id (unique identifier)\n",
    "\t- customer_id (foreign key referencing Customers)\n",
    "\t- order_date\n",
    "\t- total_amount\n",
    "\t- shipping_address\n",
    "\t- shipping_city\n",
    "\t- shipping_state\n",
    "\t- shipping_zip_code\n",
    "\t- status (e.g., Pending, Shipped, Delivered, Cancelled)\n",
    "\n",
    "- for \"Products\":\n",
    "\t- product_id (unique identifier)\n",
    "\t- category_id (foreign key referencing Categories)\n",
    "\t- product_name\n",
    "\t- description\n",
    "\t- price\n",
    "\t- stock_quantity\n",
    "\n",
    "- for \"Categories\"\n",
    "\t- category_id (unique identifier)\n",
    "\t- category_name\n",
    "\t- category_description\n"
   ]
  },
  {
   "cell_type": "markdown",
   "metadata": {},
   "source": [
    "### Task 3: Creating an Entity-Relationship (ER) Diagram\n",
    "Description: Visualize the data model by creating an ER diagram that illustrates entities, attributes, and relationships.\n",
    "\n",
    "TODO: Add ER diagram"
   ]
  },
  {
   "cell_type": "markdown",
   "metadata": {},
   "source": [
    "## Exercise 2: Implementing the Data Model using SQL\n",
    "In this exercise, we will translate the conceptual data model into a physical database schema using SQL. We will create tables, define relationships, and populate the database with sample data."
   ]
  },
  {
   "cell_type": "markdown",
   "metadata": {},
   "source": [
    "### Task 4: Setting Up the Database Environment\n",
    "Description: Set up a SQL database environment where you can execute SQL commands.\n",
    "\n",
    "**Instructions:** postrgres deployment on docker-compose command"
   ]
  },
  {
   "cell_type": "code",
   "execution_count": null,
   "metadata": {
    "vscode": {
     "languageId": "shellscript"
    }
   },
   "outputs": [],
   "source": [
    "%% cli\n",
    "\n",
    "docker compose \\\n",
    "\t-f week1/sql/docker_compose.yml \\\n",
    "\t--project-name datatech_de_course \\\n",
    "\tup -d"
   ]
  },
  {
   "cell_type": "markdown",
   "metadata": {},
   "source": [
    "### Task 5: Creating Tables with SQL\n",
    "Description: Write SQL statements to create tables for each entity, including defining primary keys, foreign keys, and appropriate data types.\n",
    "\n",
    "**Instructions:**\n",
    "\n",
    "1. Create the Tables for Customers, Orders, Products, and Categories using the following SQL statements:\n"
   ]
  },
  {
   "cell_type": "code",
   "execution_count": null,
   "metadata": {
    "vscode": {
     "languageId": "sql"
    }
   },
   "outputs": [],
   "source": [
    "%% SQL\n",
    "\n",
    "CREATE TABLE Categories (\n",
    "    category_id SERIAL PRIMARY KEY,\n",
    "    category_name VARCHAR(100) NOT NULL,\n",
    "    category_description TEXT\n",
    ");\n",
    "\n",
    "CREATE TABLE Products (\n",
    "    product_id SERIAL PRIMARY KEY,\n",
    "    category_id INTEGER NOT NULL,\n",
    "    product_name VARCHAR(100) NOT NULL,\n",
    "    description TEXT,\n",
    "    price DECIMAL(10, 2) NOT NULL,\n",
    "    stock_quantity INTEGER NOT NULL,\n",
    "    FOREIGN KEY (category_id) REFERENCES Categories(category_id)\n",
    ");\n",
    "\n",
    "CREATE TABLE Customers (\n",
    "    customer_id SERIAL PRIMARY KEY,\n",
    "    first_name VARCHAR(50) NOT NULL,\n",
    "    last_name VARCHAR(50) NOT NULL,\n",
    "    email VARCHAR(100) UNIQUE NOT NULL,\n",
    "    phone_number VARCHAR(20),\n",
    "    address VARCHAR(200),\n",
    "    city VARCHAR(50),\n",
    "    state VARCHAR(50),\n",
    "    zip_code VARCHAR(10),\n",
    "    registration_date DATE DEFAULT CURRENT_DATE\n",
    ");\n",
    "\n",
    "CREATE TABLE Orders (\n",
    "    order_id SERIAL PRIMARY KEY,\n",
    "    customer_id INTEGER NOT NULL,\n",
    "    order_date DATE DEFAULT CURRENT_DATE,\n",
    "    total_amount DECIMAL(10, 2) NOT NULL,\n",
    "    shipping_address VARCHAR(200),\n",
    "    shipping_city VARCHAR(50),\n",
    "    shipping_state VARCHAR(50),\n",
    "    shipping_zip_code VARCHAR(10),\n",
    "    status VARCHAR(20) DEFAULT 'Pending',\n",
    "    FOREIGN KEY (customer_id) REFERENCES Customers(customer_id)\n",
    ");"
   ]
  },
  {
   "cell_type": "markdown",
   "metadata": {},
   "source": [
    "2. Create the OrderItems Table: This table represents the many-to-many relationship between Orders and Products."
   ]
  },
  {
   "cell_type": "code",
   "execution_count": null,
   "metadata": {
    "vscode": {
     "languageId": "sql"
    }
   },
   "outputs": [],
   "source": [
    "%% SQL\n",
    "\n",
    "CREATE TABLE OrderItems (\n",
    "    order_item_id SERIAL PRIMARY KEY,\n",
    "    order_id INTEGER NOT NULL,\n",
    "    product_id INTEGER NOT NULL,\n",
    "    quantity INTEGER NOT NULL,\n",
    "    unit_price DECIMAL(10, 2) NOT NULL,\n",
    "    FOREIGN KEY (order_id) REFERENCES Orders(order_id),\n",
    "    FOREIGN KEY (product_id) REFERENCES Products(product_id)\n",
    ");"
   ]
  },
  {
   "cell_type": "markdown",
   "metadata": {},
   "source": [
    "Explanation of SQL Commands:\n",
    "\n",
    "- CREATE TABLE: Defines a new table in the database.\n",
    "- PRIMARY KEY: Specifies the primary key for the table, which uniquely identifies each record.\n",
    "- SERIAL: Automatically generates a unique value for the primary key when a new record is inserted.\n",
    "- FOREIGN KEY: Establishes a link between two tables based on the foreign key and primary key relationship.\n",
    "- NOT NULL: Ensures that a column cannot have a NULL value.\n",
    "- DEFAULT: Sets a default value for a column if no value is provided during insertion.\n"
   ]
  },
  {
   "cell_type": "markdown",
   "metadata": {},
   "source": [
    "### Task 6: Inserting Sample Data into Tables\n",
    "Description: Populate the tables with sample data to enable testing and querying.\n",
    "\n",
    "**Instructions:**\n",
    "1. Insert Data into Categories, Products, and Customers Tables:"
   ]
  },
  {
   "cell_type": "code",
   "execution_count": null,
   "metadata": {
    "vscode": {
     "languageId": "sql"
    }
   },
   "outputs": [],
   "source": [
    "%% SQL\n",
    "\n",
    "INSERT INTO Categories (category_name, category_description)\n",
    "VALUES\n",
    "\t('Electronics', 'Devices and gadgets such as phones, laptops, and tablets.'),\n",
    "\t('Home Appliances', 'Appliances for household use like refrigerators and microwaves.'),\n",
    "\t('Books', 'Various genres of books and literature.'),\n",
    "\t('Clothing', 'Apparel for men, women, and children.')\n",
    ";\n",
    "\n",
    "INSERT INTO Products (category_id, product_name, description, price, stock_quantity)\n",
    "VALUES\n",
    "\t(1, 'Smartphone', 'Latest model smartphone with advanced features.', 699.99, 50),\n",
    "\t(1, 'Laptop', 'High-performance laptop suitable for gaming and work.', 1199.99, 30),\n",
    "\t(2, 'Microwave Oven', '800W microwave oven with multiple settings.', 89.99, 100),\n",
    "\t(3, 'Science Fiction Novel', 'A thrilling journey through space and time.', 15.99, 200),\n",
    "\t(4, 'Mens T-Shirt', '100% cotton t-shirt available in various sizes.', 9.99, 150)\n",
    ";\n",
    "\n",
    "INSERT INTO Customers (first_name, last_name, email, phone_number, address, city, state, zip_code)\n",
    "VALUES\n",
    "\t('John', 'Doe', 'john.doe@example.com', '123-456-7890', '123 Elm Street', 'Springfield', 'IL', '62704'),\n",
    "\t('Jane', 'Smith', 'jane.smith@example.com', '987-654-3210', '456 Oak Avenue', 'Metropolis', 'NY', '10001'),\n",
    "\t('Alice', 'Johnson', 'alice.johnson@example.com', '555-123-4567', '789 Pine Road', 'Gotham', 'CA', '90001')\n",
    ";"
   ]
  },
  {
   "cell_type": "markdown",
   "metadata": {},
   "source": [
    "2. Insert Data into Orders and OrderItems Tables:"
   ]
  },
  {
   "cell_type": "code",
   "execution_count": null,
   "metadata": {
    "vscode": {
     "languageId": "sql"
    }
   },
   "outputs": [],
   "source": [
    "%% SQL\n",
    "\n",
    "-- Order 1\n",
    "\n",
    "-- Order 2\n",
    "\n",
    "-- Order 3"
   ]
  },
  {
   "cell_type": "markdown",
   "metadata": {},
   "source": [
    "### Task 7: Performing Basic SQL Queries\n",
    "Description: Write and execute SQL queries to retrieve and manipulate data from the database.\n",
    "\n",
    "**Explanation of SQL Commands:**\n",
    "\n",
    "- **SELECT**: Retrieves data from one or more tables.\n",
    "- **JOIN**: Combines rows from two or more tables based on related columns.\n",
    "- **WHERE**: Filters records based on specified conditions.\n",
    "- **GROUP** BY: Aggregates data across rows that share common values.\n",
    "- **ORDER** BY: Sorts the result set in ascending or descending order.\n",
    "- **UPDATE**: Modifies existing records in a table.\n",
    "- **DELETE**: Removes records from a table.\n",
    "\n",
    "\n",
    "**Instructions:**\n",
    "1. Retrieve All Customers:"
   ]
  },
  {
   "cell_type": "code",
   "execution_count": null,
   "metadata": {
    "vscode": {
     "languageId": "sql"
    }
   },
   "outputs": [],
   "source": [
    "%% SQL\n"
   ]
  },
  {
   "cell_type": "markdown",
   "metadata": {},
   "source": [
    "2. Retrieve Orders with Customer Information:"
   ]
  },
  {
   "cell_type": "code",
   "execution_count": null,
   "metadata": {
    "vscode": {
     "languageId": "sql"
    }
   },
   "outputs": [],
   "source": [
    "%% SQL\n"
   ]
  },
  {
   "cell_type": "markdown",
   "metadata": {},
   "source": [
    "3. Retrieve Order Details Including Products:"
   ]
  },
  {
   "cell_type": "code",
   "execution_count": null,
   "metadata": {
    "vscode": {
     "languageId": "sql"
    }
   },
   "outputs": [],
   "source": [
    "%% SQL\n",
    "\n"
   ]
  },
  {
   "cell_type": "markdown",
   "metadata": {},
   "source": [
    "4. Find Products with Low Stock (Less than 50 units):"
   ]
  },
  {
   "cell_type": "code",
   "execution_count": null,
   "metadata": {
    "vscode": {
     "languageId": "sql"
    }
   },
   "outputs": [],
   "source": [
    "%% SQL\n",
    "\n"
   ]
  },
  {
   "cell_type": "markdown",
   "metadata": {},
   "source": [
    "5. Calculate Total Sales per Product:"
   ]
  },
  {
   "cell_type": "code",
   "execution_count": null,
   "metadata": {
    "vscode": {
     "languageId": "sql"
    }
   },
   "outputs": [],
   "source": [
    "%% SQL\n",
    "\n"
   ]
  },
  {
   "cell_type": "markdown",
   "metadata": {},
   "source": [
    "6. List Customers with Their Total Orders and Amount Spent:"
   ]
  },
  {
   "cell_type": "code",
   "execution_count": null,
   "metadata": {
    "vscode": {
     "languageId": "sql"
    }
   },
   "outputs": [],
   "source": [
    "%% SQL\n",
    "\n"
   ]
  },
  {
   "cell_type": "markdown",
   "metadata": {},
   "source": [
    "7. Update Order Status:"
   ]
  },
  {
   "cell_type": "code",
   "execution_count": null,
   "metadata": {
    "vscode": {
     "languageId": "sql"
    }
   },
   "outputs": [],
   "source": [
    "%% SQL\n",
    "\n"
   ]
  },
  {
   "cell_type": "markdown",
   "metadata": {},
   "source": [
    "8. Delete a Product from the Catalog:"
   ]
  },
  {
   "cell_type": "code",
   "execution_count": null,
   "metadata": {
    "vscode": {
     "languageId": "sql"
    }
   },
   "outputs": [],
   "source": [
    "%% SQL\n",
    "\n"
   ]
  },
  {
   "cell_type": "markdown",
   "metadata": {},
   "source": [
    "----------------------------------------------------------------------------------------------------------------------------"
   ]
  },
  {
   "cell_type": "markdown",
   "metadata": {},
   "source": [
    "## Exercise 3: NoSQL for Data Engineers\n",
    "In this exercise, we will explore NoSQL databases and how they differ from traditional relational databases. We will use MongoDB as an example of a document-oriented NoSQL database and perform basic CRUD operations."
   ]
  },
  {
   "cell_type": "markdown",
   "metadata": {},
   "source": [
    "### Task 1: Access the MongoDB Shell\n",
    "Description: Connect to the MongoDB instance using the MongoDB shell from within the container.\n",
    "\n",
    "Commands:"
   ]
  },
  {
   "cell_type": "code",
   "execution_count": null,
   "metadata": {
    "vscode": {
     "languageId": "sql"
    }
   },
   "outputs": [],
   "source": [
    "%%cli\n",
    "docker exec -it mongodb mongosh"
   ]
  },
  {
   "cell_type": "markdown",
   "metadata": {},
   "source": [
    "### Task 2: Create the Database and Collections\n",
    "Description: Create a database named OnlineRetailStore and collections for Customers, Orders, Products, Categories, and OrderDetails.\n",
    "\n",
    "MongoDB Shell Commands:"
   ]
  },
  {
   "cell_type": "code",
   "execution_count": null,
   "metadata": {
    "vscode": {
     "languageId": "sql"
    }
   },
   "outputs": [],
   "source": [
    "%% MongoDB\n",
    "\n",
    "-- Switch to OnlineRetailStore database\n",
    "\n",
    "-- Create Collections\n",
    "\n",
    "-- Verify Collections"
   ]
  },
  {
   "cell_type": "markdown",
   "metadata": {},
   "source": [
    "### Task 3: Insert Sample Data into Collections\n",
    "Description: Populate each collection with sample data to represent entities like Customers, Orders, Products, and Categories.\n",
    "\n",
    "MongoDB Shell Commands:"
   ]
  },
  {
   "cell_type": "code",
   "execution_count": null,
   "metadata": {
    "vscode": {
     "languageId": "sql"
    }
   },
   "outputs": [],
   "source": [
    "%% MongoDB\n",
    "\n",
    "-- Insert into Customers Collection\n",
    "\n",
    "-- Insert into Categories Collection\n",
    "\n",
    "-- Insert into Products Collection\n",
    "\n",
    "-- Insert into Orders Collection\n",
    "\n",
    "-- Insert into OrderDetails Collection\n"
   ]
  },
  {
   "cell_type": "markdown",
   "metadata": {},
   "source": [
    "### Task 4: Read Operations\n",
    "Description: Perform read operations to retrieve data from the collections.\n",
    "\n",
    "MongoDB Shell Commands:"
   ]
  },
  {
   "cell_type": "code",
   "execution_count": null,
   "metadata": {
    "vscode": {
     "languageId": "sql"
    }
   },
   "outputs": [],
   "source": [
    "%% MongoDB\n",
    "\n",
    "-- Find All Customers\n",
    "\n",
    "-- Find Orders for a Specific Customer\n",
    "\n",
    "-- Find Products in a Specific Category"
   ]
  },
  {
   "cell_type": "markdown",
   "metadata": {},
   "source": [
    "### Task 5: Update Operations\n",
    "Description: Update specific documents in the collections.\n",
    "\n",
    "MongoDB Shell Commands:"
   ]
  },
  {
   "cell_type": "code",
   "execution_count": null,
   "metadata": {
    "vscode": {
     "languageId": "sql"
    }
   },
   "outputs": [],
   "source": [
    "%% MongoDB\n",
    "\n",
    "-- Update Customer's Phone Number\n",
    "\n",
    "-- Increase Product Price by 10%"
   ]
  },
  {
   "cell_type": "markdown",
   "metadata": {},
   "source": [
    "### Task 6: Delete Operations\n",
    "Description: Delete specific documents from the collections.\n",
    "\n",
    "MongoDB Shell Commands:"
   ]
  },
  {
   "cell_type": "code",
   "execution_count": null,
   "metadata": {
    "vscode": {
     "languageId": "sql"
    }
   },
   "outputs": [],
   "source": [
    "-- Delete a Customer by ID\n",
    "\n",
    "-- Delete All Products in a Specific Category"
   ]
  },
  {
   "cell_type": "markdown",
   "metadata": {},
   "source": [
    "----------------------------------------------------------------------------------------------------------------------------"
   ]
  }
 ],
 "metadata": {
  "kernelspec": {
   "display_name": "de_env",
   "language": "python",
   "name": "python3"
  },
  "language_info": {
   "codemirror_mode": {
    "name": "ipython",
    "version": 3
   },
   "file_extension": ".py",
   "mimetype": "text/x-python",
   "name": "python",
   "nbconvert_exporter": "python",
   "pygments_lexer": "ipython3",
   "version": "3.10.3"
  }
 },
 "nbformat": 4,
 "nbformat_minor": 2
}
