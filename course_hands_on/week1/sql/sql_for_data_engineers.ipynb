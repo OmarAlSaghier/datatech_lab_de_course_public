{
 "cells": [
  {
   "cell_type": "markdown",
   "metadata": {},
   "source": [
    "# SQL for Data Engineers: Hands-On Exercise\n",
    "\n",
    "Objective: By the end of this hands-on exercise, students will understand how to design a simple data model and implement a basic data warehouse schema using Python and SQL. This exercise is tailored for beginners with no prior coding experience and will cover fundamental concepts essential for data engineering tasks."
   ]
  },
  {
   "cell_type": "markdown",
   "metadata": {},
   "source": [
    "## Exercise 1: Designing a Data Model\n",
    "\n",
    "In this exercise, we will design a conceptual data model for a fictional `online retail store`. The data model will serve as the blueprint for our database structure, outlining how data is organized and related within the system."
   ]
  },
  {
   "cell_type": "markdown",
   "metadata": {},
   "source": [
    "### Task 1: Identifying Entities and Relationships\n",
    "Description: Identify the main entities involved in the online retail store and understand how they interact with each other.\n",
    "\n",
    "**Instructions:**\n",
    "\n",
    "- Customers: Represent individuals who purchase products from the store.\n",
    "- Orders: Represent transactions made by customers.\n",
    "- Products: Represent items available for purchase.\n",
    "- Categories: Represent groupings or classifications of products.\n",
    "\n",
    "Entities:\n",
    "- Customers\n",
    "- Orders\n",
    "- Products\n",
    "- Categories\n",
    "\n",
    "Relationships:\n",
    "\n",
    "- A Customer can place multiple Orders.\n",
    "- An Order can contain multiple Products.\n",
    "- A Product belongs to one Category.\n",
    "\n",
    "Example:\n",
    "\n",
    "Customer John Doe places an order containing 2 items: a Laptop and a Wireless Mouse. The Laptop belongs to the Electronics category, and the Wireless Mouse belongs to the Accessories category."
   ]
  },
  {
   "cell_type": "markdown",
   "metadata": {},
   "source": [
    "### Task 2: Defining Attributes for Each Entity\n",
    "Description: Define the specific pieces of information (attributes) that need to be stored for each entity.\n",
    "\n",
    "**Instructions:**\n",
    "\n",
    "Ensure that each entity has a primary key (*_id) that uniquely identifies each record.\n",
    "Define appropriate data types for each attribute when implementing in SQL (e.g., integer, varchar, date, decimal).\n",
    "Identify and establish foreign key relationships between entities where applicable.\n",
    "\n",
    "Attributes:\n",
    "\n",
    "- for \"Customers\":\n",
    "\t- customer_id (unique identifier)\n",
    "\t- first_name\n",
    "\t- last_name\n",
    "\t- email\n",
    "\t- phone_number\n",
    "\t- address\n",
    "\t- city\n",
    "\t- state\n",
    "\t- zip_code\n",
    "\t- registration_date\n",
    "\n",
    "- for \"Orders\":\n",
    "\t- order_id (unique identifier)\n",
    "\t- customer_id (foreign key referencing Customers)\n",
    "\t- order_date\n",
    "\t- total_amount\n",
    "\t- shipping_address\n",
    "\t- shipping_city\n",
    "\t- shipping_state\n",
    "\t- shipping_zip_code\n",
    "\t- status (e.g., Pending, Shipped, Delivered, Cancelled)\n",
    "\n",
    "- for \"Products\":\n",
    "\t- product_id (unique identifier)\n",
    "\t- category_id (foreign key referencing Categories)\n",
    "\t- product_name\n",
    "\t- description\n",
    "\t- price\n",
    "\t- stock_quantity\n",
    "\n",
    "- for \"Categories\"\n",
    "\t- category_id (unique identifier)\n",
    "\t- category_name\n",
    "\t- category_description\n"
   ]
  },
  {
   "cell_type": "markdown",
   "metadata": {},
   "source": [
    "### Task 3: Creating an Entity-Relationship (ER) Diagram\n",
    "Description: Visualize the data model by creating an ER diagram that illustrates entities, attributes, and relationships.\n",
    "\n",
    "TODO: Add ER diagram"
   ]
  },
  {
   "cell_type": "markdown",
   "metadata": {},
   "source": [
    "## Exercise 2: Implementing the Data Model using SQL\n",
    "In this exercise, we will translate the conceptual data model into a physical database schema using SQL. We will create tables, define relationships, and populate the database with sample data."
   ]
  },
  {
   "cell_type": "markdown",
   "metadata": {},
   "source": [
    "### Task 4: Setting Up the Database Environment\n",
    "Description: Set up a SQL database environment where you can execute SQL commands.\n",
    "\n",
    "**Instructions:** postrgres deployment on docker-compose command"
   ]
  },
  {
   "cell_type": "code",
   "execution_count": null,
   "metadata": {
    "vscode": {
     "languageId": "shellscript"
    }
   },
   "outputs": [],
   "source": [
    "%% cli\n",
    "\n",
    "docker compose \\\n",
    "\t-f week1/sql/postgres_docker_compose.yml \\\n",
    "\t--project-name de_course \\\n",
    "\tup -d"
   ]
  },
  {
   "cell_type": "markdown",
   "metadata": {},
   "source": [
    "### Task 5: Creating Tables with SQL\n",
    "Description: Write SQL statements to create tables for each entity, including defining primary keys, foreign keys, and appropriate data types.\n",
    "\n",
    "**Instructions:**\n",
    "\n",
    "1. Create the Tables for Customers, Orders, Products, and Categories using the following SQL statements:\n"
   ]
  },
  {
   "cell_type": "code",
   "execution_count": null,
   "metadata": {
    "vscode": {
     "languageId": "sql"
    }
   },
   "outputs": [],
   "source": [
    "%% SQL\n",
    "\n",
    "CREATE TABLE Categories (\n",
    "    category_id SERIAL PRIMARY KEY,\n",
    "    category_name VARCHAR(100) NOT NULL,\n",
    "    category_description TEXT\n",
    ");\n",
    "\n",
    "CREATE TABLE Products (\n",
    "    product_id SERIAL PRIMARY KEY,\n",
    "    category_id INTEGER NOT NULL,\n",
    "    product_name VARCHAR(100) NOT NULL,\n",
    "    description TEXT,\n",
    "    price DECIMAL(10, 2) NOT NULL,\n",
    "    stock_quantity INTEGER NOT NULL,\n",
    "    FOREIGN KEY (category_id) REFERENCES Categories(category_id)\n",
    ");\n",
    "\n",
    "CREATE TABLE Customers (\n",
    "    customer_id SERIAL PRIMARY KEY,\n",
    "    first_name VARCHAR(50) NOT NULL,\n",
    "    last_name VARCHAR(50) NOT NULL,\n",
    "    email VARCHAR(100) UNIQUE NOT NULL,\n",
    "    phone_number VARCHAR(20),\n",
    "    address VARCHAR(200),\n",
    "    city VARCHAR(50),\n",
    "    state VARCHAR(50),\n",
    "    zip_code VARCHAR(10),\n",
    "    registration_date DATE DEFAULT CURRENT_DATE\n",
    ");\n",
    "\n",
    "CREATE TABLE Orders (\n",
    "    order_id SERIAL PRIMARY KEY,\n",
    "    customer_id INTEGER NOT NULL,\n",
    "    order_date DATE DEFAULT CURRENT_DATE,\n",
    "    total_amount DECIMAL(10, 2) NOT NULL,\n",
    "    shipping_address VARCHAR(200),\n",
    "    shipping_city VARCHAR(50),\n",
    "    shipping_state VARCHAR(50),\n",
    "    shipping_zip_code VARCHAR(10),\n",
    "    status VARCHAR(20) DEFAULT 'Pending',\n",
    "    FOREIGN KEY (customer_id) REFERENCES Customers(customer_id)\n",
    ");"
   ]
  },
  {
   "cell_type": "markdown",
   "metadata": {},
   "source": [
    "2. Create the OrderItems Table: This table represents the many-to-many relationship between Orders and Products."
   ]
  },
  {
   "cell_type": "code",
   "execution_count": null,
   "metadata": {
    "vscode": {
     "languageId": "sql"
    }
   },
   "outputs": [],
   "source": [
    "%% SQL\n",
    "\n",
    "CREATE TABLE OrderItems (\n",
    "    order_item_id SERIAL PRIMARY KEY,\n",
    "    order_id INTEGER NOT NULL,\n",
    "    product_id INTEGER NOT NULL,\n",
    "    quantity INTEGER NOT NULL,\n",
    "    unit_price DECIMAL(10, 2) NOT NULL,\n",
    "    FOREIGN KEY (order_id) REFERENCES Orders(order_id),\n",
    "    FOREIGN KEY (product_id) REFERENCES Products(product_id)\n",
    ");"
   ]
  },
  {
   "cell_type": "markdown",
   "metadata": {},
   "source": [
    "Explanation of SQL Commands:\n",
    "\n",
    "- CREATE TABLE: Defines a new table in the database.\n",
    "- PRIMARY KEY: Specifies the primary key for the table, which uniquely identifies each record.\n",
    "- SERIAL: Automatically generates a unique value for the primary key when a new record is inserted.\n",
    "- FOREIGN KEY: Establishes a link between two tables based on the foreign key and primary key relationship.\n",
    "- NOT NULL: Ensures that a column cannot have a NULL value.\n",
    "- DEFAULT: Sets a default value for a column if no value is provided during insertion.\n"
   ]
  },
  {
   "cell_type": "markdown",
   "metadata": {},
   "source": [
    "### Task 6: Inserting Sample Data into Tables\n",
    "Description: Populate the tables with sample data to enable testing and querying.\n",
    "\n",
    "**Instructions:**\n",
    "1. Insert Data into Categories, Products, and Customers Tables:"
   ]
  },
  {
   "cell_type": "code",
   "execution_count": null,
   "metadata": {
    "vscode": {
     "languageId": "sql"
    }
   },
   "outputs": [],
   "source": [
    "%% SQL\n",
    "\n",
    "INSERT INTO Categories (category_name, category_description)\n",
    "VALUES\n",
    "\t('Electronics', 'Devices and gadgets such as phones, laptops, and tablets.'),\n",
    "\t('Home Appliances', 'Appliances for household use like refrigerators and microwaves.'),\n",
    "\t('Books', 'Various genres of books and literature.'),\n",
    "\t('Clothing', 'Apparel for men, women, and children.')\n",
    ";\n",
    "\n",
    "INSERT INTO Products (category_id, product_name, description, price, stock_quantity)\n",
    "VALUES\n",
    "\t(1, 'Smartphone', 'Latest model smartphone with advanced features.', 699.99, 50),\n",
    "\t(1, 'Laptop', 'High-performance laptop suitable for gaming and work.', 1199.99, 30),\n",
    "\t(2, 'Microwave Oven', '800W microwave oven with multiple settings.', 89.99, 100),\n",
    "\t(3, 'Science Fiction Novel', 'A thrilling journey through space and time.', 15.99, 200),\n",
    "\t(4, 'Mens T-Shirt', '100% cotton t-shirt available in various sizes.', 9.99, 150)\n",
    ";\n",
    "\n",
    "INSERT INTO Customers (first_name, last_name, email, phone_number, address, city, state, zip_code)\n",
    "VALUES\n",
    "\t('John', 'Doe', 'john.doe@example.com', '123-456-7890', '123 Elm Street', 'Springfield', 'IL', '62704'),\n",
    "\t('Jane', 'Smith', 'jane.smith@example.com', '987-654-3210', '456 Oak Avenue', 'Metropolis', 'NY', '10001'),\n",
    "\t('Alice', 'Johnson', 'alice.johnson@example.com', '555-123-4567', '789 Pine Road', 'Gotham', 'CA', '90001')\n",
    ";"
   ]
  },
  {
   "cell_type": "markdown",
   "metadata": {},
   "source": [
    "2. Insert Data into Orders and OrderItems Tables:"
   ]
  },
  {
   "cell_type": "code",
   "execution_count": null,
   "metadata": {
    "vscode": {
     "languageId": "sql"
    }
   },
   "outputs": [],
   "source": [
    "%% SQL\n",
    "\n",
    "-- Order 1\n",
    "INSERT INTO Orders (customer_id, total_amount, shipping_address, shipping_city, shipping_state, shipping_zip_code, status)\n",
    "VALUES\n",
    "\t(1, 789.98, '123 Elm Street', 'Springfield', 'IL', '62704', 'Shipped')\n",
    ";\n",
    "\n",
    "INSERT INTO OrderItems (order_id, product_id, quantity, unit_price)\n",
    "VALUES\n",
    "\t(1, 1, 1, 699.99),\n",
    "\t(1, 3, 1, 89.99)\n",
    ";\n",
    "\n",
    "-- Order 2\n",
    "INSERT INTO Orders (customer_id, total_amount, shipping_address, shipping_city, shipping_state, shipping_zip_code, status)\n",
    "VALUES\n",
    "\t(2, 25.98, '456 Oak Avenue', 'Metropolis', 'NY', '10001', 'Delivered')\n",
    ";\n",
    "\n",
    "INSERT INTO OrderItems (order_id, product_id, quantity, unit_price)\n",
    "VALUES\n",
    "\t(2, 4, 2, 12.99)\n",
    ";\n",
    "\n",
    "-- Order 3\n",
    "INSERT INTO Orders (customer_id, total_amount, shipping_address, shipping_city, shipping_state, shipping_zip_code, status)\n",
    "VALUES\n",
    "\t(3, 1209.98, '789 Pine Road', 'Gotham', 'CA', '90001', 'Pending')\n",
    ";\n",
    "\n",
    "INSERT INTO OrderItems (order_id, product_id, quantity, unit_price)\n",
    "VALUES\n",
    "\t(3, 2, 1, 1199.99),\n",
    "\t(3, 5, 1, 9.99)\n",
    ";"
   ]
  },
  {
   "cell_type": "markdown",
   "metadata": {},
   "source": [
    "### Task 7: Performing Basic SQL Queries\n",
    "Description: Write and execute SQL queries to retrieve and manipulate data from the database.\n",
    "\n",
    "**Explanation of SQL Commands:**\n",
    "\n",
    "- **SELECT**: Retrieves data from one or more tables.\n",
    "- **JOIN**: Combines rows from two or more tables based on related columns.\n",
    "- **WHERE**: Filters records based on specified conditions.\n",
    "- **GROUP** BY: Aggregates data across rows that share common values.\n",
    "- **ORDER** BY: Sorts the result set in ascending or descending order.\n",
    "- **UPDATE**: Modifies existing records in a table.\n",
    "- **DELETE**: Removes records from a table.\n",
    "\n",
    "\n",
    "**Instructions:**\n",
    "1. Retrieve All Customers:"
   ]
  },
  {
   "cell_type": "code",
   "execution_count": null,
   "metadata": {
    "vscode": {
     "languageId": "sql"
    }
   },
   "outputs": [],
   "source": [
    "%% SQL\n",
    "\n",
    "SELECT * FROM Customers;"
   ]
  },
  {
   "cell_type": "markdown",
   "metadata": {},
   "source": [
    "2. Retrieve Orders with Customer Information:"
   ]
  },
  {
   "cell_type": "code",
   "execution_count": null,
   "metadata": {
    "vscode": {
     "languageId": "sql"
    }
   },
   "outputs": [],
   "source": [
    "%% SQL\n",
    "\n",
    "SELECT \n",
    "    Orders.order_id,\n",
    "    Orders.order_date,\n",
    "    Orders.total_amount,\n",
    "    Customers.first_name,\n",
    "    Customers.last_name,\n",
    "    Orders.status\n",
    "FROM Orders\n",
    "JOIN Customers ON Orders.customer_id = Customers.customer_id\n",
    ";"
   ]
  },
  {
   "cell_type": "markdown",
   "metadata": {},
   "source": [
    "3. Retrieve Order Details Including Products:"
   ]
  },
  {
   "cell_type": "code",
   "execution_count": null,
   "metadata": {
    "vscode": {
     "languageId": "sql"
    }
   },
   "outputs": [],
   "source": [
    "%% SQL\n",
    "\n",
    "SELECT \n",
    "    Orders.order_id,\n",
    "    Customers.first_name || ' ' || Customers.last_name AS customer_name,\n",
    "    Products.product_name,\n",
    "    OrderItems.quantity,\n",
    "    OrderItems.unit_price,\n",
    "    (OrderItems.quantity * OrderItems.unit_price) AS total_price\n",
    "FROM OrderItems\n",
    "JOIN Orders ON OrderItems.order_id = Orders.order_id\n",
    "JOIN Customers ON Orders.customer_id = Customers.customer_id\n",
    "JOIN Products ON OrderItems.product_id = Products.product_id\n",
    ";"
   ]
  },
  {
   "cell_type": "markdown",
   "metadata": {},
   "source": [
    "4. Find Products with Low Stock (Less than 50 units):"
   ]
  },
  {
   "cell_type": "code",
   "execution_count": null,
   "metadata": {
    "vscode": {
     "languageId": "sql"
    }
   },
   "outputs": [],
   "source": [
    "%% SQL\n",
    "\n",
    "SELECT \n",
    "    product_id,\n",
    "    product_name,\n",
    "    stock_quantity\n",
    "FROM Products\n",
    "WHERE stock_quantity < 50\n",
    ";"
   ]
  },
  {
   "cell_type": "markdown",
   "metadata": {},
   "source": [
    "5. Calculate Total Sales per Product:"
   ]
  },
  {
   "cell_type": "code",
   "execution_count": null,
   "metadata": {
    "vscode": {
     "languageId": "sql"
    }
   },
   "outputs": [],
   "source": [
    "%% SQL\n",
    "\n",
    "SELECT \n",
    "    Products.product_name,\n",
    "    SUM(OrderItems.quantity) AS total_units_sold,\n",
    "    SUM(OrderItems.quantity * OrderItems.unit_price) AS total_sales\n",
    "FROM OrderItems\n",
    "JOIN Products ON OrderItems.product_id = Products.product_id\n",
    "GROUP BY Products.product_name\n",
    "ORDER BY total_sales DESC\n",
    ";"
   ]
  },
  {
   "cell_type": "markdown",
   "metadata": {},
   "source": [
    "6. List Customers with Their Total Orders and Amount Spent:"
   ]
  },
  {
   "cell_type": "code",
   "execution_count": null,
   "metadata": {
    "vscode": {
     "languageId": "sql"
    }
   },
   "outputs": [],
   "source": [
    "%% SQL\n",
    "\n",
    "SELECT \n",
    "    Customers.first_name || ' ' || Customers.last_name AS customer_name,\n",
    "    COUNT(Orders.order_id) AS total_orders,\n",
    "    SUM(Orders.total_amount) AS total_amount_spent\n",
    "FROM Customers\n",
    "LEFT JOIN Orders ON Customers.customer_id = Orders.customer_id\n",
    "GROUP BY Customers.customer_id\n",
    "ORDER BY total_amount_spent DESC\n",
    ";"
   ]
  },
  {
   "cell_type": "markdown",
   "metadata": {},
   "source": [
    "7. Update Order Status:"
   ]
  },
  {
   "cell_type": "code",
   "execution_count": null,
   "metadata": {
    "vscode": {
     "languageId": "sql"
    }
   },
   "outputs": [],
   "source": [
    "%% SQL\n",
    "\n",
    "UPDATE Orders\n",
    "SET status = 'Delivered'\n",
    "WHERE order_id = 3\n",
    ";"
   ]
  },
  {
   "cell_type": "markdown",
   "metadata": {},
   "source": [
    "8. Delete a Product from the Catalog:"
   ]
  },
  {
   "cell_type": "code",
   "execution_count": null,
   "metadata": {
    "vscode": {
     "languageId": "sql"
    }
   },
   "outputs": [],
   "source": [
    "%% SQL\n",
    "\n",
    "DELETE FROM Products\n",
    "WHERE product_id = 5\n",
    ";"
   ]
  },
  {
   "cell_type": "markdown",
   "metadata": {},
   "source": [
    "## Exercise 3: Exercise 3: Designing and Implementing a Data Warehouse\n",
    "In this exercise, we will design and implement a basic data warehouse using the data from our online retail store. We will understand key data warehousing concepts, design a star schema, implement it using SQL, and perform an ETL process using Python."
   ]
  },
  {
   "cell_type": "markdown",
   "metadata": {},
   "source": [
    "### Task 8: Designing a Star Schema\n",
    "Description: Design a star schema for the online retail store to facilitate efficient data analysis.\n",
    "\n",
    "**Instructions:**\n",
    "\n",
    "1. Define the purpose and attributes of each table as outlined above.\n",
    "2. Identify the grain of the fact table, which is the level of detail (e.g., one row per product sold per transaction).\n",
    "3. Ensure that dimension tables contain descriptive attributes that facilitate detailed analysis.\n",
    "\n",
    "Components of the Star Schema:\n",
    "\n",
    "1. Fact Table:\n",
    "    - Sales_Fact: Contains sales transaction data.\n",
    "\n",
    "2. Dimension Tables:\n",
    "    - Date_Dim: Contains date-related information.\n",
    "    - Customer_Dim: Contains customer information.\n",
    "    - Product_Dim: Contains product information.\n",
    "    - Category_Dim: Contains product category information.\n",
    "    - Store_Dim (Optional): Contains store or sales channel information.\n",
    "\n",
    "\n",
    "Design Details:\n",
    "\n",
    "1. Sales_Fact Table:\n",
    "    - sale_id (primary key)\n",
    "    - date_id (foreign key to Date_Dim)\n",
    "    - customer_id (foreign key to Customer_Dim)\n",
    "    - product_id (foreign key to Product_Dim)\n",
    "    - quantity_sold\n",
    "    - total_price\n",
    "\n",
    "2. Date_Dim Table:\n",
    "    - date_id (primary key)\n",
    "    - date (full date)\n",
    "    - day\n",
    "    - month\n",
    "    - quarter\n",
    "    - year\n",
    "    - weekday\n",
    "\n",
    "3. Customer_Dim Table:\n",
    "    - customer_id (primary key)\n",
    "    - first_name\n",
    "    - last_name\n",
    "    - email\n",
    "    - phone_number\n",
    "    - address\n",
    "    - city\n",
    "    - state\n",
    "    - zip_code\n",
    "    - registration_date\n",
    "\n",
    "4. Product_Dim Table:\n",
    "    - product_id (primary key)\n",
    "    - product_name\n",
    "    - description\n",
    "    - price\n",
    "    - category_id (foreign key to Category_Dim)\n",
    "\n",
    "5. Category_Dim Table:\n",
    "    - category_id (primary key)\n",
    "    - category_name\n",
    "    - category_description\n",
    "    \n",
    "ER Diagram of Star Schema:\n",
    "- Centered around Sales_Fact, connected to each dimension table via foreign keys."
   ]
  },
  {
   "cell_type": "markdown",
   "metadata": {},
   "source": [
    "### Task 9: Implementing the Star Schema using SQL\n",
    "Description: Create the star schema in your database by defining the fact and dimension tables with appropriate constraints.\n",
    "\n",
    "**Instructions:**\n",
    "\n",
    "1. Create a new schema to represne the data warehouse."
   ]
  },
  {
   "cell_type": "code",
   "execution_count": null,
   "metadata": {
    "vscode": {
     "languageId": "sql"
    }
   },
   "outputs": [],
   "source": [
    "%% SQL\n",
    "\n",
    "CREATE SCHEMA IF NOT EXISTS orders_dw;"
   ]
  },
  {
   "cell_type": "markdown",
   "metadata": {},
   "source": [
    "2. Create dimensional tables (Date_Dim, Customer_Dim, Product_Dim, Category_Dim) with the specified attributes."
   ]
  },
  {
   "cell_type": "code",
   "execution_count": null,
   "metadata": {
    "vscode": {
     "languageId": "sql"
    }
   },
   "outputs": [],
   "source": [
    "%% SQL\n",
    "\n",
    "-- Create Date_Dim Table\n",
    "CREATE TABLE date_Dim (\n",
    "    date_id INTEGER PRIMARY KEY,\n",
    "    date DATE NOT NULL,\n",
    "    day INTEGER,\n",
    "    month INTEGER,\n",
    "    quarter INTEGER,\n",
    "    year INTEGER,\n",
    "    weekday VARCHAR(10)\n",
    ");\n",
    "\n",
    "-- Create Customer_Dim Table\n",
    "CREATE TABLE customer_Dim (\n",
    "    customer_id INTEGER PRIMARY KEY,\n",
    "    first_name VARCHAR(50),\n",
    "    last_name VARCHAR(50),\n",
    "    email VARCHAR(100),\n",
    "    phone_number VARCHAR(20),\n",
    "    address VARCHAR(200),\n",
    "    city VARCHAR(50),\n",
    "    state VARCHAR(50),\n",
    "    zip_code VARCHAR(10),\n",
    "    registration_date DATE\n",
    ");\n",
    "\n",
    "-- Create Category_Dim Table\n",
    "CREATE TABLE category_Dim (\n",
    "    category_id INTEGER PRIMARY KEY,\n",
    "    category_name VARCHAR(100),\n",
    "    category_description TEXT\n",
    ");\n",
    "\n",
    "-- Create Product_Dim Table\n",
    "CREATE TABLE product_Dim (\n",
    "    product_id INTEGER PRIMARY KEY,\n",
    "    product_name VARCHAR(100),\n",
    "    description TEXT,\n",
    "    price DECIMAL(10,2),\n",
    "    category_id INTEGER,\n",
    "    FOREIGN KEY (category_id) REFERENCES Category_Dim(category_id)\n",
    ");"
   ]
  },
  {
   "cell_type": "markdown",
   "metadata": {},
   "source": [
    "3. Create the fact table (Sales_Fact) with the specified attributes and foreign key constraints."
   ]
  },
  {
   "cell_type": "code",
   "execution_count": null,
   "metadata": {
    "vscode": {
     "languageId": "sql"
    }
   },
   "outputs": [],
   "source": [
    "%% SQL\n",
    "\n",
    "-- Create Sales_Fact Table\n",
    "CREATE TABLE sales_fact (\n",
    "    sale_id SERIAL PRIMARY KEY,\n",
    "    date_id INTEGER,\n",
    "    customer_id INTEGER,\n",
    "    product_id INTEGER,\n",
    "    quantity_sold INTEGER,\n",
    "    total_price DECIMAL(10,2),\n",
    "    FOREIGN KEY (date_id) REFERENCES Date_Dim(date_id),\n",
    "    FOREIGN KEY (customer_id) REFERENCES Customer_Dim(customer_id),\n",
    "    FOREIGN KEY (product_id) REFERENCES Product_Dim(product_id)\n",
    ");"
   ]
  },
  {
   "cell_type": "markdown",
   "metadata": {},
   "source": [
    "4. Insert sample data into the dimension tables to populate them."
   ]
  },
  {
   "cell_type": "code",
   "execution_count": null,
   "metadata": {
    "vscode": {
     "languageId": "sql"
    }
   },
   "outputs": [],
   "source": [
    "%% SQL\n",
    "\n",
    "-- Insert sample data into Date_Dim Table\n",
    "INSERT INTO date_Dim (date_id, date, day, month, quarter, year, weekday)\n",
    "VALUES (1, '2022-01-01', 1, 1, 1, 2022, 'Saturday'),\n",
    "       (2, '2022-01-02', 2, 1, 1, 2022, 'Sunday'),\n",
    "       (3, '2022-01-03', 3, 1, 1, 2022, 'Monday');\n",
    "\n",
    "INSERT INTO category_Dim\n",
    "\tselect *\n",
    "\tfrom public.categories \n",
    ";\n",
    "\n",
    "INSERT INTO product_Dim\n",
    "\tselect *\n",
    "\tfrom public.products \n",
    ";\n",
    "\n",
    "INSERT INTO customer_Dim\n",
    "\tselect *\n",
    "\tfrom public.customers \n",
    ";\n",
    "\n",
    "INSERT INTO sales_fact\n",
    "    SELECT \n",
    "        o.order_id,\n",
    "        strftime('%Y%m%d', o.order_date) AS date_id,\n",
    "        o.customer_id,\n",
    "        oi.product_id,\n",
    "        oi.quantity,\n",
    "        oi.quantity * oi.unit_price AS total_price\n",
    "    FROM public.orders o\n",
    "    JOIN public.orderitems oi \n",
    "    \tON o.order_id = oi.order_id\n",
    ";"
   ]
  },
  {
   "cell_type": "markdown",
   "metadata": {},
   "source": [
    "### Task 10: Querying the Data Warehouse\n",
    "Description: Execute analytical queries on the data warehouse to derive insights.\n",
    "\n",
    "**Instructions:**\n",
    "\n",
    "1. Total Sales per Product:"
   ]
  },
  {
   "cell_type": "code",
   "execution_count": null,
   "metadata": {
    "vscode": {
     "languageId": "sql"
    }
   },
   "outputs": [],
   "source": [
    "%% SQL\n",
    "\n",
    "SELECT \n",
    "    Product_Dim.product_name,\n",
    "    SUM(Sales_Fact.quantity_sold) AS total_units_sold,\n",
    "    SUM(Sales_Fact.total_price) AS total_sales\n",
    "FROM Sales_Fact\n",
    "JOIN Product_Dim ON Sales_Fact.product_id = Product_Dim.product_id\n",
    "GROUP BY Product_Dim.product_name\n",
    "ORDER BY total_sales DESC\n",
    ";"
   ]
  },
  {
   "cell_type": "markdown",
   "metadata": {},
   "source": [
    "2. Monthly Sales Performance:"
   ]
  },
  {
   "cell_type": "code",
   "execution_count": null,
   "metadata": {
    "vscode": {
     "languageId": "sql"
    }
   },
   "outputs": [],
   "source": [
    "%% SQL\n",
    "\n",
    "SELECT \n",
    "    Date_Dim.month,\n",
    "    Date_Dim.year,\n",
    "    SUM(Sales_Fact.total_price) AS monthly_sales\n",
    "FROM Sales_Fact\n",
    "JOIN Date_Dim ON Sales_Fact.date_id = Date_Dim.date_id\n",
    "GROUP BY Date_Dim.year, Date_Dim.month\n",
    "ORDER BY Date_Dim.year, Date_Dim.month\n",
    ";"
   ]
  },
  {
   "cell_type": "markdown",
   "metadata": {},
   "source": [
    "3. Top Customers by Sales:"
   ]
  },
  {
   "cell_type": "code",
   "execution_count": null,
   "metadata": {
    "vscode": {
     "languageId": "sql"
    }
   },
   "outputs": [],
   "source": [
    "%% SQL\n",
    "\n",
    "SELECT \n",
    "    Customer_Dim.first_name || ' ' || Customer_Dim.last_name AS customer_name,\n",
    "    SUM(Sales_Fact.total_price) AS total_spent\n",
    "FROM Sales_Fact\n",
    "JOIN Customer_Dim ON Sales_Fact.customer_id = Customer_Dim.customer_id\n",
    "GROUP BY Sales_Fact.customer_id\n",
    "ORDER BY total_spent DESC\n",
    "LIMIT 5\n",
    ";"
   ]
  },
  {
   "cell_type": "markdown",
   "metadata": {},
   "source": [
    "4. Sales by Category:"
   ]
  },
  {
   "cell_type": "code",
   "execution_count": null,
   "metadata": {
    "vscode": {
     "languageId": "sql"
    }
   },
   "outputs": [],
   "source": [
    "%% SQL\n",
    "\n",
    "SELECT \n",
    "    Category_Dim.category_name,\n",
    "    SUM(Sales_Fact.total_price) AS total_sales\n",
    "FROM Sales_Fact\n",
    "JOIN Product_Dim ON Sales_Fact.product_id = Product_Dim.product_id\n",
    "JOIN Category_Dim ON Product_Dim.category_id = Category_Dim.category_id\n",
    "GROUP BY Category_Dim.category_name\n",
    "ORDER BY total_sales DESC\n",
    ";"
   ]
  },
  {
   "cell_type": "markdown",
   "metadata": {},
   "source": [
    "5. Daily Sales Trends:"
   ]
  },
  {
   "cell_type": "code",
   "execution_count": null,
   "metadata": {
    "vscode": {
     "languageId": "sql"
    }
   },
   "outputs": [],
   "source": [
    "%% SQL\n",
    "\n",
    "SELECT \n",
    "    Date_Dim.date,\n",
    "    SUM(Sales_Fact.total_price) AS daily_sales\n",
    "FROM Sales_Fact\n",
    "JOIN Date_Dim ON Sales_Fact.date_id = Date_Dim.date_id\n",
    "GROUP BY Date_Dim.date\n",
    "ORDER BY Date_Dim.date\n",
    ";"
   ]
  }
 ],
 "metadata": {
  "kernelspec": {
   "display_name": "de_env",
   "language": "python",
   "name": "python3"
  },
  "language_info": {
   "codemirror_mode": {
    "name": "ipython",
    "version": 3
   },
   "file_extension": ".py",
   "mimetype": "text/x-python",
   "name": "python",
   "nbconvert_exporter": "python",
   "pygments_lexer": "ipython3",
   "version": "3.10.3"
  }
 },
 "nbformat": 4,
 "nbformat_minor": 2
}
